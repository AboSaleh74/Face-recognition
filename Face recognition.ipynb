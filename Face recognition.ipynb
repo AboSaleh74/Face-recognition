{
 "cells": [
  {
   "cell_type": "code",
   "execution_count": 8,
   "id": "3c65f890",
   "metadata": {},
   "outputs": [],
   "source": [
    "from simple_facerec import Simple_facerec\n",
    "import numpy as np\n",
    "import cv2\n",
    "import urllib.request"
   ]
  },
  {
   "cell_type": "code",
   "execution_count": 9,
   "id": "71112f56",
   "metadata": {},
   "outputs": [
    {
     "name": "stdout",
     "output_type": "stream",
     "text": [
      "9 images found\n"
     ]
    }
   ],
   "source": [
    "sfr = Simple_facerec()\n",
    "sfr.load_encoding_image(\"chelsea_players/\")"
   ]
  },
  {
   "cell_type": "code",
   "execution_count": 11,
   "id": "2ba7fae6",
   "metadata": {},
   "outputs": [],
   "source": [
    "cap = cv2.VideoCapture(0)\n",
    "\n",
    "while True:\n",
    "    #img_arr = np.array(bytearray(urllib.request.urlopen(url).read()), dtype=np.uint8)\n",
    "    #frame = cv2.imdecode(img_arr, -1) # for external cam\n",
    "    \n",
    "    ret , frame = cap.read()\n",
    "    \n",
    "    face_loc , face_name = sfr.detect_known_face(frame)\n",
    "    for face_loc,name in zip(face_loc,face_name):\n",
    "        y1, x2, y2, x1 = face_loc[0], face_loc[1], face_loc[2], face_loc[3]\n",
    "\n",
    "        cv2.putText(frame, name,(x1, y1 - 10), cv2.FONT_HERSHEY_DUPLEX, 1, (0, 0, 200), 2)\n",
    "        cv2.rectangle(frame, (x1, y1), (x2, y2), (0, 0, 200), 4)\n",
    "\n",
    "    cv2.imshow(\"Frame\", frame)\n",
    "\n",
    "    key = cv2.waitKey(1)\n",
    "    if key == ord(\"q\"):\n",
    "        break\n",
    "\n",
    "cap.release()\n",
    "cv2.destroyAllWindows()"
   ]
  },
  {
   "cell_type": "code",
   "execution_count": null,
   "id": "b6dd16da",
   "metadata": {},
   "outputs": [],
   "source": []
  }
 ],
 "metadata": {
  "kernelspec": {
   "display_name": "Python 3 (ipykernel)",
   "language": "python",
   "name": "python3"
  },
  "language_info": {
   "codemirror_mode": {
    "name": "ipython",
    "version": 3
   },
   "file_extension": ".py",
   "mimetype": "text/x-python",
   "name": "python",
   "nbconvert_exporter": "python",
   "pygments_lexer": "ipython3",
   "version": "3.11.7"
  }
 },
 "nbformat": 4,
 "nbformat_minor": 5
}
